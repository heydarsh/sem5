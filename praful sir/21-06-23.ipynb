{
 "cells": [
  {
   "cell_type": "code",
   "execution_count": 1,
   "id": "8a4075f0",
   "metadata": {},
   "outputs": [],
   "source": [
    "# Importing numpy library for numerical computations\n",
    "import numpy as np\n",
    "\n",
    "# Importing pandas library for data manipulation and analysis\n",
    "import pandas as pd"
   ]
  },
  {
   "cell_type": "code",
   "execution_count": 2,
   "id": "a8d78335",
   "metadata": {},
   "outputs": [
    {
     "data": {
      "text/plain": [
       "a   -2.086932\n",
       "b   -0.045713\n",
       "c    0.651744\n",
       "d   -0.905408\n",
       "e    0.832325\n",
       "dtype: float64"
      ]
     },
     "execution_count": 2,
     "metadata": {},
     "output_type": "execute_result"
    }
   ],
   "source": [
    "# Creating a Series with random values\n",
    "series = pd.Series(np.random.randn(5), index=[\"a\", \"b\", \"c\", \"d\", \"e\"])\n",
    "\n",
    "# Outputting the Series\n",
    "series"
   ]
  },
  {
   "cell_type": "code",
   "execution_count": 3,
   "id": "49094533",
   "metadata": {},
   "outputs": [
    {
     "data": {
      "text/plain": [
       "a    0.224778\n",
       "b    0.476253\n",
       "c   -0.871514\n",
       "d    0.604433\n",
       "e    0.568092\n",
       "f    0.591136\n",
       "dtype: float64"
      ]
     },
     "execution_count": 3,
     "metadata": {},
     "output_type": "execute_result"
    }
   ],
   "source": [
    "# Creating a Series with random values\n",
    "series = pd.Series(np.random.randn(6), index=[\"a\", \"b\", \"c\", \"d\", \"e\", \"f\"])\n",
    "\n",
    "# Outputting the Series\n",
    "series"
   ]
  },
  {
   "cell_type": "code",
   "execution_count": 4,
   "id": "3ed1f6a2",
   "metadata": {},
   "outputs": [
    {
     "data": {
      "text/plain": [
       "0   -0.842147\n",
       "1   -1.244795\n",
       "2   -0.176882\n",
       "dtype: float64"
      ]
     },
     "execution_count": 4,
     "metadata": {},
     "output_type": "execute_result"
    }
   ],
   "source": [
    "# Creating a Series with random values\n",
    "series = pd.Series(np.random.randn(3))\n",
    "\n",
    "# Outputting the Series\n",
    "series"
   ]
  },
  {
   "cell_type": "code",
   "execution_count": 5,
   "id": "fefcc866",
   "metadata": {},
   "outputs": [
    {
     "data": {
      "text/plain": [
       "b    1\n",
       "a    0\n",
       "c    2\n",
       "dtype: int64"
      ]
     },
     "execution_count": 5,
     "metadata": {},
     "output_type": "execute_result"
    }
   ],
   "source": [
    "# Creating a Series from a dictionary\n",
    "dict = {\"b\": 1, \"a\": 0, \"c\": 2}\n",
    "series = pd.Series(dict)\n",
    "\n",
    "# Outputting the Series\n",
    "series"
   ]
  },
  {
   "cell_type": "code",
   "execution_count": 6,
   "id": "ecba238e",
   "metadata": {},
   "outputs": [
    {
     "data": {
      "text/plain": [
       "b    1.0\n",
       "a    0.0\n",
       "c    2.0\n",
       "d    NaN\n",
       "dtype: float64"
      ]
     },
     "execution_count": 6,
     "metadata": {},
     "output_type": "execute_result"
    }
   ],
   "source": [
    "# Creating a Series from a dictionary\n",
    "dict = {\"b\": 1, \"a\": 0, \"c\": 2, \"d\": np.nan}\n",
    "series = pd.Series(dict)\n",
    "\n",
    "# Outputting the Series\n",
    "series\n",
    "\n",
    "# NaN = null value"
   ]
  },
  {
   "cell_type": "code",
   "execution_count": 7,
   "id": "16132e54",
   "metadata": {},
   "outputs": [
    {
     "data": {
      "text/plain": [
       "a    1\n",
       "B    3\n",
       "D    5\n",
       "A    7\n",
       "dtype: int64"
      ]
     },
     "execution_count": 7,
     "metadata": {},
     "output_type": "execute_result"
    }
   ],
   "source": [
    "# Creating a Series from a dictionary\n",
    "dict = {\"a\": 1, \"B\": 3, \"D\": 5, \"A\": 7}\n",
    "series = pd.Series(dict)\n",
    "\n",
    "# Outputting the Series\n",
    "series"
   ]
  },
  {
   "cell_type": "code",
   "execution_count": 8,
   "id": "543a176c",
   "metadata": {},
   "outputs": [
    {
     "data": {
      "text/plain": [
       "Name     Darsh\n",
       "Age         20\n",
       "Marks       90\n",
       "dtype: object"
      ]
     },
     "execution_count": 8,
     "metadata": {},
     "output_type": "execute_result"
    }
   ],
   "source": [
    "# Creating a Series from a dictionary\n",
    "dict = {\"Name\": \"Darsh\", \"Age\": 20, \"Marks\": \"90\"}\n",
    "series = pd.Series(dict)\n",
    "\n",
    "# Outputting the Series\n",
    "series"
   ]
  },
  {
   "cell_type": "code",
   "execution_count": 7,
   "id": "50616d3e",
   "metadata": {},
   "outputs": [
    {
     "ename": "NameError",
     "evalue": "name 'np' is not defined",
     "output_type": "error",
     "traceback": [
      "\u001b[1;31m---------------------------------------------------------------------------\u001b[0m",
      "\u001b[1;31mNameError\u001b[0m                                 Traceback (most recent call last)",
      "Cell \u001b[1;32mIn[7], line 2\u001b[0m\n\u001b[0;32m      1\u001b[0m \u001b[38;5;66;03m# Creating a Series from a dictionary\u001b[39;00m\n\u001b[1;32m----> 2\u001b[0m \u001b[38;5;28mdict\u001b[39m \u001b[38;5;241m=\u001b[39m {\u001b[38;5;124m\"\u001b[39m\u001b[38;5;124mName\u001b[39m\u001b[38;5;124m\"\u001b[39m: \u001b[43mnp\u001b[49m\u001b[38;5;241m.\u001b[39mnan, \u001b[38;5;124m\"\u001b[39m\u001b[38;5;124mAge\u001b[39m\u001b[38;5;124m\"\u001b[39m: \u001b[38;5;241m27\u001b[39m, \u001b[38;5;124m\"\u001b[39m\u001b[38;5;124mMarks\u001b[39m\u001b[38;5;124m\"\u001b[39m: \u001b[38;5;241m280\u001b[39m}\n\u001b[0;32m      3\u001b[0m series \u001b[38;5;241m=\u001b[39m pd\u001b[38;5;241m.\u001b[39mSeries(\u001b[38;5;28mdict\u001b[39m)\n\u001b[0;32m      5\u001b[0m \u001b[38;5;66;03m# Outputting the Series\u001b[39;00m\n",
      "\u001b[1;31mNameError\u001b[0m: name 'np' is not defined"
     ]
    }
   ],
   "source": [
    "# Creating a Series from a dictionary\n",
    "dict = {\"Name\": np.nan, \"Age\": 27, \"Marks\": 280}\n",
    "series = pd.Series(dict)\n",
    "\n",
    "# Outputting the Series\n",
    "series"
   ]
  },
  {
   "cell_type": "code",
   "execution_count": null,
   "id": "578ba2f1",
   "metadata": {},
   "outputs": [],
   "source": []
  }
 ],
 "metadata": {
  "kernelspec": {
   "display_name": "Python 3 (ipykernel)",
   "language": "python",
   "name": "python3"
  },
  "language_info": {
   "codemirror_mode": {
    "name": "ipython",
    "version": 3
   },
   "file_extension": ".py",
   "mimetype": "text/x-python",
   "name": "python",
   "nbconvert_exporter": "python",
   "pygments_lexer": "ipython3",
   "version": "3.10.9"
  }
 },
 "nbformat": 4,
 "nbformat_minor": 5
}

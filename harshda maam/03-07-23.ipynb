{
 "cells": [
  {
   "cell_type": "code",
   "execution_count": 2,
   "id": "217addad",
   "metadata": {},
   "outputs": [
    {
     "name": "stdout",
     "output_type": "stream",
     "text": [
      "Hello panchal You are 10 years old\n"
     ]
    }
   ],
   "source": [
    "def hello(name,age):  #positional argument\n",
    "    print(\"Hello \"+name+\" You are \"+str(age)+\" years old\")\n",
    "          \n",
    "hello(\"panchal\",10)"
   ]
  },
  {
   "cell_type": "code",
   "execution_count": 9,
   "id": "f4068f6d",
   "metadata": {},
   "outputs": [
    {
     "name": "stdout",
     "output_type": "stream",
     "text": [
      "Hello Panchal you are 30years old\n"
     ]
    }
   ],
   "source": [
    "def hello(name,age=20): #keyword argument\n",
    "    print(\"Hello \"+name+\" you are \"+str(age)+\"years old\")\n",
    "    \n",
    "hello(\"Panchal\",30)"
   ]
  },
  {
   "cell_type": "code",
   "execution_count": 5,
   "id": "bf0f7610",
   "metadata": {},
   "outputs": [
    {
     "name": "stdout",
     "output_type": "stream",
     "text": [
      "('John', 'jenny')\n",
      "{'age': 30, 'year': 2023}\n"
     ]
    }
   ],
   "source": [
    "def hello(*args,**kwargs):\n",
    "    print(args)\n",
    "    print(kwargs)\n",
    "hello(\"John\",\"jenny\", age=30,year=2023)"
   ]
  },
  {
   "cell_type": "code",
   "execution_count": 8,
   "id": "32af86b7",
   "metadata": {},
   "outputs": [
    {
     "name": "stdout",
     "output_type": "stream",
     "text": [
      "('jhon', 'jenny', 'jinal')\n",
      "{'age': 30, 'DOB': 1985, 'year': 2023}\n"
     ]
    }
   ],
   "source": [
    "def hello(*args,**kwargs):\n",
    "    print(args)\n",
    "    print(kwargs)\n",
    "\n",
    "#hello(\"jhon\",\"jenny\",age=30,dob=1995)\n",
    "lst=list((\"jhon\",\"jenny\",\"jinal\"))\n",
    "dictionary={'age':30, 'DOB':1985,'year':2023}\n",
    "\n",
    "hello(*lst,**dictionary) #method calling\n",
    "\n",
    "#hello(\"jhon\",\"jenny\",\"1\",\"Delhi\",'423458',age=24,dob=1990)"
   ]
  },
  {
   "cell_type": "code",
   "execution_count": 1,
   "id": "e2b30ba3",
   "metadata": {},
   "outputs": [
    {
     "name": "stdout",
     "output_type": "stream",
     "text": [
      "The animal is ('dog', 'mammal') and says woof woof\n"
     ]
    }
   ],
   "source": [
    "# Positional Arguments\n",
    "\n",
    "class animal:\n",
    "    def __init__(self, *args):\n",
    "        if len(args) == 1:\n",
    "            self.name = args[0]\n",
    "        elif len(args) == 2:\n",
    "            self.name = args[0]\n",
    "            self.species = args[1]\n",
    "        elif len(args) == 3:\n",
    "            self.name = args[0]\n",
    "            self.species = args[1]\n",
    "            self.age = args[2]\n",
    "\n",
    "    def make_sound(self, sound):\n",
    "        return \"The animal is {} and says {}\".format(self.name, sound)\n",
    "\n",
    "dog = animal((\"dog\", \"mammal\"))\n",
    "print(dog.make_sound(\"woof woof\"))"
   ]
  },
  {
   "cell_type": "code",
   "execution_count": null,
   "id": "25eac8b3",
   "metadata": {},
   "outputs": [],
   "source": []
  }
 ],
 "metadata": {
  "kernelspec": {
   "display_name": "Python 3 (ipykernel)",
   "language": "python",
   "name": "python3"
  },
  "language_info": {
   "codemirror_mode": {
    "name": "ipython",
    "version": 3
   },
   "file_extension": ".py",
   "mimetype": "text/x-python",
   "name": "python",
   "nbconvert_exporter": "python",
   "pygments_lexer": "ipython3",
   "version": "3.10.9"
  }
 },
 "nbformat": 4,
 "nbformat_minor": 5
}

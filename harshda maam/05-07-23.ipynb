{
 "cells": [
  {
   "cell_type": "code",
   "execution_count": 2,
   "id": "1c014792",
   "metadata": {},
   "outputs": [
    {
     "name": "stdout",
     "output_type": "stream",
     "text": [
      "employee details....\n",
      "Employee name is john and id is 101\n",
      "Employee name is Darsh and id is 102\n",
      "\n",
      "\n",
      "employee details using the variable...\n",
      "john\n",
      "Darsh\n",
      "\n",
      "\n",
      "employee details using the variable...\n",
      "john\n",
      "HR\n",
      "Darsh\n"
     ]
    }
   ],
   "source": [
    "class employee:\n",
    "\n",
    "    def __init__(self,name,id):\n",
    "        self.name=name\n",
    "        self.id=id\n",
    "        \n",
    "    def details(self): #instance method\n",
    "         print(\"Employee name is {} and id is {}\".format(self.name,self.id))\n",
    "        \n",
    "    def get_name(self): #access method = feching the value \n",
    "        return self.name\n",
    "    def set_name(self,name): #mutator method -modifying/set \n",
    "        return name\n",
    "        \n",
    "emp1 = employee(\"john\",101)\n",
    "emp2 = employee(\"Darsh\",102)\n",
    "\n",
    "print(\"employee details....\") #calling the method\n",
    "\n",
    "emp1.details()\n",
    "emp2.details()\n",
    "print(\"\\n\")\n",
    "\n",
    "#accessing the values using the variable\n",
    "\n",
    "print(\"employee details using the variable...\")\n",
    "print(emp1.name)\n",
    "print(emp2.name)\n",
    "print(\"\\n\")\n",
    "\n",
    "#accesing the values using get and set method\n",
    "\n",
    "print(\"employee details using the variable...\")\n",
    "print(emp1.get_name())\n",
    "print(emp2.set_name('HR'))\n",
    "print(emp2.name)\n",
    "\n",
    "    \n",
    "    "
   ]
  },
  {
   "cell_type": "markdown",
   "id": "6e623c17",
   "metadata": {},
   "source": []
  }
 ],
 "metadata": {
  "kernelspec": {
   "display_name": "Python 3 (ipykernel)",
   "language": "python",
   "name": "python3"
  },
  "language_info": {
   "codemirror_mode": {
    "name": "ipython",
    "version": 3
   },
   "file_extension": ".py",
   "mimetype": "text/x-python",
   "name": "python",
   "nbconvert_exporter": "python",
   "pygments_lexer": "ipython3",
   "version": "3.10.9"
  }
 },
 "nbformat": 4,
 "nbformat_minor": 5
}

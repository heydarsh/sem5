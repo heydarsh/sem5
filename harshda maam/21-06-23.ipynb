{
 "cells": [
  {
   "cell_type": "code",
   "execution_count": 1,
   "id": "baac1925",
   "metadata": {},
   "outputs": [
    {
     "name": "stdout",
     "output_type": "stream",
     "text": [
      "hello darsh\n",
      "hello darsh\n",
      "hello darsh\n",
      "hello darsh\n",
      "hello darsh\n"
     ]
    }
   ],
   "source": [
    "print(\"hello darsh\")\n",
    "print(\"hello darsh\")\n",
    "print(\"hello darsh\")\n",
    "print(\"hello darsh\")\n",
    "print(\"hello darsh\")"
   ]
  },
  {
   "cell_type": "markdown",
   "id": "c3ca35da",
   "metadata": {},
   "source": [
    "# class and object"
   ]
  },
  {
   "cell_type": "code",
   "execution_count": 4,
   "id": "4e732499",
   "metadata": {},
   "outputs": [
    {
     "name": "stdout",
     "output_type": "stream",
     "text": [
      "Id:101\n",
      "Name:audi\n"
     ]
    }
   ],
   "source": [
    "class Cars:\n",
    "    id = 101\n",
    "    name = 'audi'\n",
    "    def display(self):\n",
    "        print(\"Id:%d\\nName:%s\"%(self.id,self.name))\n",
    "car = Cars()\n",
    "car.display()\n",
    "#car1=Cars()\n",
    "#car1.display()"
   ]
  },
  {
   "cell_type": "code",
   "execution_count": 7,
   "id": "724644a4",
   "metadata": {},
   "outputs": [
    {
     "name": "stdout",
     "output_type": "stream",
     "text": [
      "Id:101\n",
      "Name:audi\n",
      "Id:101\n",
      "Name:audi\n"
     ]
    },
    {
     "ename": "NameError",
     "evalue": "name 'car1' is not defined",
     "output_type": "error",
     "traceback": [
      "\u001b[1;31m---------------------------------------------------------------------------\u001b[0m",
      "\u001b[1;31mNameError\u001b[0m                                 Traceback (most recent call last)",
      "Cell \u001b[1;32mIn[7], line 12\u001b[0m\n\u001b[0;32m     10\u001b[0m car1\u001b[38;5;241m.\u001b[39mdisplay()\n\u001b[0;32m     11\u001b[0m \u001b[38;5;28;01mdel\u001b[39;00m car1  \u001b[38;5;66;03m#deletion of object\u001b[39;00m\n\u001b[1;32m---> 12\u001b[0m \u001b[43mcar1\u001b[49m\u001b[38;5;241m.\u001b[39mdisplay()\n",
      "\u001b[1;31mNameError\u001b[0m: name 'car1' is not defined"
     ]
    }
   ],
   "source": [
    "class Cars:\n",
    "    id = 101\n",
    "    name = 'audi'\n",
    "    def display(self):\n",
    "        print(\"Id:%d\\nName:%s\"%(self.id,self.name))\n",
    "        \n",
    "car = Cars() #object creation\n",
    "car.display()\n",
    "car1=Cars()\n",
    "car1.display()\n",
    "del car1  #deletion of object\n",
    "car1.display()\n",
    "\n"
   ]
  },
  {
   "cell_type": "code",
   "execution_count": 16,
   "id": "a4669dc1",
   "metadata": {},
   "outputs": [
    {
     "name": "stdout",
     "output_type": "stream",
     "text": [
      "ID :101 \n",
      "Name:John\n",
      "ID :102 \n",
      "Name:David\n"
     ]
    }
   ],
   "source": [
    "class Employee:\n",
    "    def __init__(self,name,id): #constructor\n",
    "        self.id=id\n",
    "        self.name=name\n",
    "        \n",
    "    def display(self):\n",
    "        print(\"ID :%d \\nName:%s\"%(self.id,self.name))\n",
    "        \n",
    "emp1 = Employee(\"John\",101)\n",
    "emp2 = Employee(\"David\",102)\n",
    "\n",
    "emp1.display()\n",
    "emp2.display()"
   ]
  },
  {
   "cell_type": "code",
   "execution_count": null,
   "id": "26406249",
   "metadata": {},
   "outputs": [],
   "source": []
  }
 ],
 "metadata": {
  "kernelspec": {
   "display_name": "Python 3 (ipykernel)",
   "language": "python",
   "name": "python3"
  },
  "language_info": {
   "codemirror_mode": {
    "name": "ipython",
    "version": 3
   },
   "file_extension": ".py",
   "mimetype": "text/x-python",
   "name": "python",
   "nbconvert_exporter": "python",
   "pygments_lexer": "ipython3",
   "version": "3.10.9"
  }
 },
 "nbformat": 4,
 "nbformat_minor": 5
}

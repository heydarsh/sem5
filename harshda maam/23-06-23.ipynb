{
 "cells": [
  {
   "cell_type": "markdown",
   "id": "680583ed",
   "metadata": {},
   "source": [
    "# string Formatting"
   ]
  },
  {
   "cell_type": "markdown",
   "id": "74b4e003",
   "metadata": {},
   "source": [
    "# use of % Operator for string formatting (older approach )"
   ]
  },
  {
   "cell_type": "code",
   "execution_count": 2,
   "id": "79d279a9",
   "metadata": {},
   "outputs": [
    {
     "name": "stdout",
     "output_type": "stream",
     "text": [
      "Student name is Darsh and ID is 100\n"
     ]
    }
   ],
   "source": [
    "Name = 'Darsh'\n",
    "ID = 100\n",
    "print(\"Student name is %s and ID is %d\"%(Name,ID))"
   ]
  },
  {
   "cell_type": "markdown",
   "id": "2fb08792",
   "metadata": {},
   "source": [
    "# use of format() method for string formatting"
   ]
  },
  {
   "cell_type": "code",
   "execution_count": 7,
   "id": "67a7f084",
   "metadata": {},
   "outputs": [
    {
     "name": "stdout",
     "output_type": "stream",
     "text": [
      "Student name is Darsh and ID is 102\n"
     ]
    }
   ],
   "source": [
    "Name = 'Darsh'\n",
    "ID = 102\n",
    "print(\"Student name is {} and ID is {}\".format(Name,ID))"
   ]
  },
  {
   "cell_type": "markdown",
   "id": "b2731aee",
   "metadata": {},
   "source": [
    "# use of string for string formatting"
   ]
  },
  {
   "cell_type": "code",
   "execution_count": 9,
   "id": "18ad4328",
   "metadata": {},
   "outputs": [
    {
     "name": "stdout",
     "output_type": "stream",
     "text": [
      "Student Name is heytvee and id is 103\n"
     ]
    }
   ],
   "source": [
    "Name = \"heytvee\"\n",
    "ID = 103\n",
    "print(f\"Student Name is {Name} and id is {ID}\")"
   ]
  },
  {
   "cell_type": "markdown",
   "id": "3a0f4efd",
   "metadata": {},
   "source": [
    "# parameterized/constructor "
   ]
  },
  {
   "cell_type": "code",
   "execution_count": 25,
   "id": "e649a5dc",
   "metadata": {},
   "outputs": [
    {
     "name": "stdout",
     "output_type": "stream",
     "text": [
      "Car: Toyota Corolla 2023\n",
      "Milege: 0 miles\n",
      "Car: Toyota Corolla 2023\n",
      "Milege: 100 miles\n"
     ]
    }
   ],
   "source": [
    "class Car:\n",
    "    def __init__(self,Make,Model,Year):\n",
    "        self.make = Make\n",
    "        self.model = Model\n",
    "        self.year = Year\n",
    "        self.mileage = 0\n",
    "        \n",
    "    def drive(self,miles):\n",
    "        self.mileage +=miles\n",
    "        \n",
    "    def display_info(self):\n",
    "        print(\"Car: {} {} {}\".format(self.make, self.model, self.year))\n",
    "        print(\"Milege: {} miles\".format(self.mileage))\n",
    "        # Creating an instance of the Car Class\n",
    "        \n",
    "my_car = Car(\"Toyota\",\"Corolla\", 2023)\n",
    "\n",
    "# Accessing the attributes and calling the methods\n",
    "\n",
    "my_car.display_info()\n",
    "my_car.drive(100)\n",
    "my_car.display_info()"
   ]
  }
 ],
 "metadata": {
  "kernelspec": {
   "display_name": "Python 3 (ipykernel)",
   "language": "python",
   "name": "python3"
  },
  "language_info": {
   "codemirror_mode": {
    "name": "ipython",
    "version": 3
   },
   "file_extension": ".py",
   "mimetype": "text/x-python",
   "name": "python",
   "nbconvert_exporter": "python",
   "pygments_lexer": "ipython3",
   "version": "3.10.9"
  }
 },
 "nbformat": 4,
 "nbformat_minor": 5
}

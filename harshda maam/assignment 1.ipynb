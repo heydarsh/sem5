{
 "cells": [
  {
   "cell_type": "code",
   "execution_count": 2,
   "id": "7de41a53",
   "metadata": {},
   "outputs": [
    {
     "name": "stdout",
     "output_type": "stream",
     "text": [
      "Product : milk\n",
      "Price : 100\n",
      "Quantity : 1\n"
     ]
    }
   ],
   "source": [
    "class Product:\n",
    "    def __init__(self,Name,Price,Quantity):\n",
    "        self.name = Name\n",
    "        self.price = Price\n",
    "        self.quantity = Quantity\n",
    "        \n",
    "    def display_info(self):\n",
    "        print(\"Product : {}\".format(self.name))\n",
    "        print(\"Price : {}\".format(self.price))\n",
    "        print(\"Quantity : {}\".format(self.quantity))\n",
    "        \n",
    "# Creating an instance of the Product Class\n",
    "my_product = Product(\"milk\" , 100 , 1)\n",
    "# my_product1 = Product(\"Dairy Milk\" , 20 , 2)\n",
    "\n",
    "#Accessing the attributes and Calling the methods\n",
    "my_product.display_info()\n",
    "# my_product1.display_info()"
   ]
  },
  {
   "cell_type": "code",
   "execution_count": null,
   "id": "caf67731",
   "metadata": {},
   "outputs": [],
   "source": []
  }
 ],
 "metadata": {
  "kernelspec": {
   "display_name": "Python 3 (ipykernel)",
   "language": "python",
   "name": "python3"
  },
  "language_info": {
   "codemirror_mode": {
    "name": "ipython",
    "version": 3
   },
   "file_extension": ".py",
   "mimetype": "text/x-python",
   "name": "python",
   "nbconvert_exporter": "python",
   "pygments_lexer": "ipython3",
   "version": "3.10.9"
  }
 },
 "nbformat": 4,
 "nbformat_minor": 5
}

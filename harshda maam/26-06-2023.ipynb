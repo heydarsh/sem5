{
 "cells": [
  {
   "cell_type": "code",
   "execution_count": 1,
   "id": "8ff08200",
   "metadata": {},
   "outputs": [
    {
     "name": "stdout",
     "output_type": "stream",
     "text": [
      "The number of student: 4\n"
     ]
    }
   ],
   "source": [
    "#counting the number of object of a class\n",
    "class Student:\n",
    "    counter = 0 #class variable\n",
    "    def __init__(self):\n",
    "        Student.counter = Student.counter + 1\n",
    "s1=Student()\n",
    "s2=Student()\n",
    "s3=Student()\n",
    "s4=Student()\n",
    "print(\"The number of student:\",Student.counter)\n",
    "\n"
   ]
  },
  {
   "cell_type": "code",
   "execution_count": 2,
   "id": "829f5a7e",
   "metadata": {},
   "outputs": [
    {
     "name": "stdout",
     "output_type": "stream",
     "text": [
      "This is non parametarized constructor\n",
      "Hello Darsh\n"
     ]
    }
   ],
   "source": [
    "#Python Non-Parametarized Constructor\n",
    "class Student:\n",
    "    \n",
    "    #constructor - non parametarized\n",
    "    def __init__(self): #two underscore before init and after\n",
    "        print(\"This is non parametarized constructor\")\n",
    "        \n",
    "    def show(self,name):\n",
    "        print(\"Hello\",name)\n",
    "        \n",
    "student = Student()\n",
    "student.show(\"Darsh\")"
   ]
  },
  {
   "cell_type": "code",
   "execution_count": 4,
   "id": "b3895bce",
   "metadata": {},
   "outputs": [
    {
     "name": "stdout",
     "output_type": "stream",
     "text": [
      "This is NON-Parametarized Constructor...\n",
      "Car price is: 6.71 Lakh\n",
      "Car Manufactured by Toyota\n",
      "Car Model is Corola\n",
      "Car Launching Year is 2023\n"
     ]
    }
   ],
   "source": [
    "class Car:\n",
    "    Make = \"Toyota\"  #class variables\n",
    "    Model = \"Corola\"\n",
    "    Year = 2023\n",
    "    \n",
    "    def __init__(self):  #non parametarized constructor\n",
    "        Price = \"6.71 Lakh\"\n",
    "        print(\"This is NON-Parametarized Constructor...\")\n",
    "        print(\"Car price is:\",Price)\n",
    "        \n",
    "    def get_info(self):\n",
    "        print(\"Car Manufactured by\", Car.Make)\n",
    "        print(\"Car Model is\",Car.Model)\n",
    "        print(\"Car Launching Year is\",Car.Year)\n",
    "        #print(\"price\",self.Price)\n",
    "        \n",
    "car1 = Car()  #object creation\n",
    "car1.get_info() #calling the method"
   ]
  },
  {
   "cell_type": "code",
   "execution_count": null,
   "id": "b1e6cf3f",
   "metadata": {},
   "outputs": [],
   "source": []
  }
 ],
 "metadata": {
  "kernelspec": {
   "display_name": "Python 3 (ipykernel)",
   "language": "python",
   "name": "python3"
  },
  "language_info": {
   "codemirror_mode": {
    "name": "ipython",
    "version": 3
   },
   "file_extension": ".py",
   "mimetype": "text/x-python",
   "name": "python",
   "nbconvert_exporter": "python",
   "pygments_lexer": "ipython3",
   "version": "3.10.9"
  }
 },
 "nbformat": 4,
 "nbformat_minor": 5
}

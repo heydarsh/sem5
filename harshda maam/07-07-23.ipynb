{
 "cells": [
  {
   "cell_type": "markdown",
   "id": "de33bd8b",
   "metadata": {},
   "source": [
    "# #Python Inheritance"
   ]
  },
  {
   "cell_type": "markdown",
   "id": "8c3db459",
   "metadata": {},
   "source": [
    "# 1.Single Level inheritance"
   ]
  },
  {
   "cell_type": "code",
   "execution_count": 1,
   "id": "8e3cf6bb",
   "metadata": {},
   "outputs": [],
   "source": [
    "class DailyProduct:\n",
    "    \n",
    "    def __init__(self,p_name,p_price): #constructor\n",
    "        self.name = p_name\n",
    "        self.price = p_price\n",
    "        \n",
    "    def product(self): #instance method\n",
    "        print(\"product is {}(100grams) and price {}Rupee\".format(self.name,self.price))"
   ]
  },
  {
   "cell_type": "code",
   "execution_count": 4,
   "id": "288d0bc4",
   "metadata": {},
   "outputs": [],
   "source": [
    "class Paneer(DailyProduct): #child class\n",
    "    \n",
    "    def details(self,Protein):\n",
    "        print(\"paneer(100grams) contains {} grams Protien\".format(Protein))\n",
    "    "
   ]
  },
  {
   "cell_type": "code",
   "execution_count": 5,
   "id": "c5a29a47",
   "metadata": {},
   "outputs": [
    {
     "name": "stdout",
     "output_type": "stream",
     "text": [
      "product is Paneer(100grams) and price 100Rupee\n",
      "paneer(100grams) contains 18 grams Protien\n"
     ]
    }
   ],
   "source": [
    "\n",
    "paneer = Paneer(\"Paneer\",100)\n",
    "paneer.product() #child class access the parent class method\n",
    "paneer.details(18) \n"
   ]
  },
  {
   "cell_type": "markdown",
   "id": "83b95368",
   "metadata": {},
   "source": [
    "## 2.multilevel inheritance "
   ]
  },
  {
   "cell_type": "code",
   "execution_count": 1,
   "id": "7a7705f1",
   "metadata": {},
   "outputs": [
    {
     "name": "stdout",
     "output_type": "stream",
     "text": [
      "Product: Butter (100 grams) - Price: 220 Rupees\n",
      "Butter (100 grams) contains 0.9 grams of protein\n",
      "Manufacturing date: 5th July\n",
      "Expiry date: 5th August\n",
      "___________\n",
      "Product: Paneer (100 grams) - Price: 110 Rupees\n",
      "Paneer (100 grams) contains 18 grams of protein\n",
      "Manufacturing date: 10th July\n",
      "Expiry date: 15th August\n"
     ]
    }
   ],
   "source": [
    "class DairyProduct:\n",
    "    \n",
    "    def __init__(self, name, price):\n",
    "        self.name = name\n",
    "        self.price = price\n",
    "    \n",
    "    def product(self):\n",
    "        print(f\"Product: {self.name} (100 grams) - Price: {self.price} Rupees\")\n",
    "\n",
    "\n",
    "class Paneer(DairyProduct):\n",
    "    \n",
    "    def __init__(self, name, price):\n",
    "        super().__init__(name, price)\n",
    "\n",
    "    def details(self, protein):\n",
    "        print(f\"{self.name} (100 grams) contains {protein} grams of protein\")\n",
    "\n",
    "    def m_details(self, mdate):\n",
    "        print(f\"Manufacturing date: {mdate}\")\n",
    "\n",
    "\n",
    "class Butter(Paneer):\n",
    "    \n",
    "    def __init__(self, name, price, mdate, edate):\n",
    "        super().__init__(name, price)\n",
    "        self.mdate = mdate\n",
    "        self.edate = edate\n",
    "\n",
    "    def e_details(self):\n",
    "        print(f\"Expiry date: {self.edate}\")\n",
    "\n",
    "\n",
    "butter1 = Butter(\"Butter\", 220, \"5th July\", \"5th August\")\n",
    "butter1.product()\n",
    "butter1.details(0.9)\n",
    "butter1.m_details(\"5th July\")\n",
    "butter1.e_details()\n",
    "\n",
    "print(\"___________\")\n",
    "\n",
    "butter2 = Butter(\"Paneer\", 110, \"10th July\", \"15th August\")\n",
    "butter2.product()\n",
    "butter2.details(18)\n",
    "butter2.m_details(\"10th July\")\n",
    "butter2.e_details()"
   ]
  },
  {
   "cell_type": "markdown",
   "id": "e840af39",
   "metadata": {},
   "source": [
    "# example\n"
   ]
  },
  {
   "cell_type": "code",
   "execution_count": 2,
   "id": "c0835324",
   "metadata": {},
   "outputs": [
    {
     "name": "stdout",
     "output_type": "stream",
     "text": [
      "Product: Butter (100 grams) - Price: 220 Rupees\n",
      "Butter (100 grams) contains 0.9 grams of protein\n",
      "Manufacturing date: 5th July\n",
      "Expiry date: 5th August\n",
      "___________\n",
      "Product: Paneer (100 grams) - Price: 110 Rupees\n",
      "Paneer (100 grams) contains 18 grams of protein\n",
      "Manufacturing date: 10th July\n",
      "Expiry date: 15th August\n"
     ]
    }
   ],
   "source": [
    "class DairyProduct:\n",
    "    \n",
    "    def __init__(self, name, price):\n",
    "        self.name = name\n",
    "        self.price = price\n",
    "    \n",
    "    def product(self):\n",
    "        print(f\"Product: {self.name} (100 grams) - Price: {self.price} Rupees\")\n",
    "\n",
    "\n",
    "class Paneer(DairyProduct):\n",
    "    \n",
    "    def __init__(self, name, price):\n",
    "        super().__init__(name, price)\n",
    "\n",
    "    def details(self, protein):\n",
    "        print(f\"{self.name} (100 grams) contains {protein} grams of protein\")\n",
    "\n",
    "    def m_details(self, mdate):\n",
    "        print(f\"Manufacturing date: {mdate}\")\n",
    "\n",
    "\n",
    "class Butter(Paneer):\n",
    "    \n",
    "    def __init__(self, name, price, mdate, edate):\n",
    "        super().__init__(name, price)\n",
    "        self.mdate = mdate\n",
    "        self.edate = edate\n",
    "\n",
    "    def e_details(self):\n",
    "        print(f\"Expiry date: {self.edate}\")\n",
    "\n",
    "\n",
    "butter1 = Butter(\"Butter\", 220, \"5th July\", \"5th August\")\n",
    "butter1.product()\n",
    "butter1.details(0.9)\n",
    "butter1.m_details(\"5th July\")\n",
    "butter1.e_details()\n",
    "\n",
    "print(\"___________\")\n",
    "\n",
    "butter2 = Butter(\"Paneer\", 110, \"10th July\", \"15th August\")\n",
    "butter2.product()\n",
    "butter2.details(18)\n",
    "butter2.m_details(\"10th July\")\n",
    "butter2.e_details()"
   ]
  },
  {
   "cell_type": "code",
   "execution_count": null,
   "id": "becce3bd",
   "metadata": {},
   "outputs": [],
   "source": []
  }
 ],
 "metadata": {
  "kernelspec": {
   "display_name": "Python 3 (ipykernel)",
   "language": "python",
   "name": "python3"
  },
  "language_info": {
   "codemirror_mode": {
    "name": "ipython",
    "version": 3
   },
   "file_extension": ".py",
   "mimetype": "text/x-python",
   "name": "python",
   "nbconvert_exporter": "python",
   "pygments_lexer": "ipython3",
   "version": "3.10.9"
  }
 },
 "nbformat": 4,
 "nbformat_minor": 5
}

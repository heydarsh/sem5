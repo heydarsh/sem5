{
 "cells": [
  {
   "cell_type": "code",
   "execution_count": 16,
   "id": "642a028e",
   "metadata": {},
   "outputs": [
    {
     "name": "stdout",
     "output_type": "stream",
     "text": [
      "Alfaaz\n",
      "Darsh\n",
      "2023\n"
     ]
    }
   ],
   "source": [
    "class Book:\n",
    "    def __init__(self):\n",
    "\n",
    "        self.title = \"Alfaaz\"\n",
    "\n",
    "        self.author = \"Darsh\"\n",
    "\n",
    "        self.publication_year = 2023\n",
    "\n",
    " # Creating an instance of the Book class using the non-parameterized constructor\n",
    "book = Book( )\n",
    "\n",
    " # Accessing the attributes of the book\n",
    "print (book.title)\n",
    "print(book.author)\n",
    "print(book.publication_year)"
   ]
  },
  {
   "cell_type": "code",
   "execution_count": null,
   "id": "84766549",
   "metadata": {},
   "outputs": [],
   "source": []
  }
 ],
 "metadata": {
  "kernelspec": {
   "display_name": "Python 3 (ipykernel)",
   "language": "python",
   "name": "python3"
  },
  "language_info": {
   "codemirror_mode": {
    "name": "ipython",
    "version": 3
   },
   "file_extension": ".py",
   "mimetype": "text/x-python",
   "name": "python",
   "nbconvert_exporter": "python",
   "pygments_lexer": "ipython3",
   "version": "3.10.9"
  }
 },
 "nbformat": 4,
 "nbformat_minor": 5
}
